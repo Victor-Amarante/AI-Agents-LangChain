{
 "cells": [
  {
   "cell_type": "markdown",
   "metadata": {},
   "source": [
    "### Um exemplo simples de LCEL\n",
    "\n",
    "O exemplo para mostrar como seria na construção de prompt + model"
   ]
  },
  {
   "cell_type": "code",
   "execution_count": 1,
   "metadata": {},
   "outputs": [],
   "source": [
    "from dotenv import load_dotenv, find_dotenv\n",
    "\n",
    "_ = load_dotenv(find_dotenv())"
   ]
  },
  {
   "cell_type": "code",
   "execution_count": 2,
   "metadata": {},
   "outputs": [],
   "source": [
    "from langchain_openai import ChatOpenAI\n",
    "\n",
    "model = ChatOpenAI(model='gpt-3.5-turbo-0125')"
   ]
  },
  {
   "cell_type": "code",
   "execution_count": 3,
   "metadata": {},
   "outputs": [],
   "source": [
    "from langchain_core.prompts import ChatPromptTemplate\n",
    "\n",
    "prompt = ChatPromptTemplate.from_template('Crie uma frase sobre o seguinte: {assunto}')"
   ]
  },
  {
   "cell_type": "code",
   "execution_count": 4,
   "metadata": {},
   "outputs": [],
   "source": [
    "chain = prompt | model"
   ]
  },
  {
   "cell_type": "code",
   "execution_count": 5,
   "metadata": {},
   "outputs": [
    {
     "data": {
      "text/plain": [
       "AIMessage(content='\"Cachorros são companheiros leais que enchem nossas vidas de alegria e amor incondicional.\"', response_metadata={'token_usage': {'completion_tokens': 27, 'prompt_tokens': 19, 'total_tokens': 46}, 'model_name': 'gpt-3.5-turbo-0125', 'system_fingerprint': None, 'finish_reason': 'stop', 'logprobs': None}, id='run-daf911df-b763-47cc-9977-c0c84dff384e-0')"
      ]
     },
     "execution_count": 5,
     "metadata": {},
     "output_type": "execute_result"
    }
   ],
   "source": [
    "chain.invoke({'assunto': 'cachorros'})"
   ]
  },
  {
   "cell_type": "code",
   "execution_count": 6,
   "metadata": {},
   "outputs": [
    {
     "name": "stdout",
     "output_type": "stream",
     "text": [
      "Cachorros são os melhores amigos que alguém pode ter, sempre prontos para nos alegrar com sua lealdade e carinho incondicional.\n"
     ]
    }
   ],
   "source": [
    "print(chain.invoke({'assunto': 'cachorros'}).content)"
   ]
  },
  {
   "cell_type": "markdown",
   "metadata": {},
   "source": [
    "#### Adicionando mais elementos a chain\n",
    "\n",
    "Para pegar somente o content da chain, chamamos o output_parser"
   ]
  },
  {
   "cell_type": "code",
   "execution_count": 7,
   "metadata": {},
   "outputs": [
    {
     "data": {
      "text/plain": [
       "'Cachorros são os melhores amigos que alguém pode ter, sempre prontos para nos alegrar e nos fazer companhia.'"
      ]
     },
     "execution_count": 7,
     "metadata": {},
     "output_type": "execute_result"
    }
   ],
   "source": [
    "from langchain_core.output_parsers import StrOutputParser\n",
    "\n",
    "output_parser = StrOutputParser()\n",
    "\n",
    "chain = prompt | model | output_parser\n",
    "\n",
    "chain.invoke({'assunto': 'cachorros'})"
   ]
  },
  {
   "cell_type": "markdown",
   "metadata": {},
   "source": [
    "Dessa forma, conseguimos mostrar o content de forma mais direta"
   ]
  },
  {
   "cell_type": "markdown",
   "metadata": {},
   "source": [
    "#### A ordem importa\n",
    "``` Python\n",
    "prompt | model | output_parser\n",
    "```\n"
   ]
  },
  {
   "cell_type": "markdown",
   "metadata": {},
   "source": [
    "#### Exercitando..."
   ]
  },
  {
   "cell_type": "code",
   "execution_count": 9,
   "metadata": {},
   "outputs": [
    {
     "name": "stdout",
     "output_type": "stream",
     "text": [
      "Máquina eletrônica capaz de processar informações e executar tarefas diversas.\n",
      "Veículo motorizado de quatro rodas utilizado para transporte de pessoas.\n",
      "Animal de quatro patas, grande, forte, ágil e dócil.\n",
      "Instrumento de escrita com tinta, utilizado para escrever em papel.\n"
     ]
    }
   ],
   "source": [
    "# Vamos criar uma Chain. Para isso, precisamos de algumas etapas anteriores:\n",
    "\n",
    "# [x] - importar as bibliotecas\n",
    "# [x] - fazer conexao com a openai\n",
    "# [x] - criar o prompt\n",
    "# [x] - printar o output\n",
    "\n",
    "from dotenv import find_dotenv, load_dotenv # serve para pegar a OPENAI_AI_KEY no .env\n",
    "from langchain_openai import ChatOpenAI # conexao com o modelo de LLM da OpenAI\n",
    "from langchain_core.prompts import ChatPromptTemplate # criar o prompt\n",
    "from langchain_core.output_parsers import StrOutputParser # imprimir o content da chain\n",
    "\n",
    "_ = load_dotenv(find_dotenv())\n",
    "\n",
    "model = ChatOpenAI(model='gpt-3.5-turbo-0125')\n",
    "prompt = ChatPromptTemplate.from_template('Descreva em apenas 10 palavras o que seria o objeto seguinte: {objeto}')\n",
    "output_parser = StrOutputParser()\n",
    "\n",
    "chain = prompt | model | output_parser\n",
    "\n",
    "print(chain.invoke({'objeto': 'computador'}))\n",
    "print(chain.invoke({'objeto': 'carro'}))\n",
    "print(chain.invoke({'objeto': 'cavalo'}))\n",
    "print(chain.invoke({'objeto': 'caneta'}))\n",
    "\n"
   ]
  },
  {
   "cell_type": "markdown",
   "metadata": {},
   "source": [
    "#### Utilizando outro modelo de LLM\n",
    "\n",
    "- Testando a diferença de criatividade dos modelos de llm disponibilizados pela OpenAI"
   ]
  },
  {
   "cell_type": "code",
   "execution_count": 10,
   "metadata": {},
   "outputs": [
    {
     "name": "stdout",
     "output_type": "stream",
     "text": [
      "Bhaskara, ou Bhaskara II, foi um matemático e astrônomo indiano do século XII, amplamente reconhecido por suas contribuições significativas à álgebra, geometria e cálculo. Ele é famoso principalmente pela fórmula de resolução de equações quadráticas, frequentemente chamada de \"fórmula de Bhaskara\" no Brasil, apesar de ser conhecida globalmente como a fórmula quadrática. Em seu tratado \"Līlāvatī\", Bhaskara abordou problemas aritméticos e algébricos, enquanto em \"Bijaganita\" ele explorou soluções sistemáticas para equações. Seu trabalho também incluiu importantes avanços em trigonometria e problemas relacionados ao movimento planetário, marcando um ponto alto na matemática indiana medieval.\n",
      "A regra de três é um método matemático simples usado para resolver problemas de proporcionalidade entre quatro valores, dos quais três são conhecidos e um é desconhecido. Existem duas formas principais: a regra de três simples, que pode ser direta ou inversa, e a regra de três composta. Na regra de três simples direta, a relação entre os valores é direta (aumentando um valor, o outro também aumenta proporcionalmente), enquanto na inversa, a relação é inversa (aumentando um valor, o outro diminui proporcionalmente). Já a regra de três composta envolve múltiplas proporções e é usada para resolver problemas mais complexos onde há mais de duas variáveis relacionadas. A aplicação desse método facilita a resolução de problemas cotidianos e científicos de forma prática e eficiente.\n",
      "A integral é um conceito fundamental no cálculo e na análise matemática que se refere à soma acumulada de áreas sob uma curva em um gráfico, representando a totalidade de valores contínuos. Existem dois tipos principais de integrais: a integral indefinida, que generaliza a antiderivada de uma função e inclui uma constante de integração, e a integral definida, que calcula a área sob a curva de uma função entre dois pontos específicos. As integrais são amplamente aplicadas em diversas áreas, como física, engenharia e economia, para resolver problemas relacionados a taxas de variação acumuladas, volumes de sólidos de revolução, trabalho realizado por forças variáveis e muito mais.\n"
     ]
    }
   ],
   "source": [
    "from dotenv import load_dotenv, find_dotenv\n",
    "from langchain_openai import ChatOpenAI\n",
    "from langchain_core.prompts import ChatPromptTemplate\n",
    "from langchain_core.output_parsers import StrOutputParser\n",
    "\n",
    "_ = load_dotenv(find_dotenv())\n",
    "\n",
    "model = ChatOpenAI(model='gpt-4o')\n",
    "prompt = ChatPromptTemplate.from_template('Explique em apenas um paragrafo sobre esse assunto relacionada a Matemática: {assunto}')\n",
    "output_parser = StrOutputParser()\n",
    "\n",
    "chain = prompt | model | output_parser\n",
    "\n",
    "print(chain.invoke({'assunto': 'Bhaskara'}))\n",
    "print(chain.invoke({'assunto': 'Regra de Tres'}))\n",
    "print(chain.invoke({'assunto': 'Integral'}))"
   ]
  },
  {
   "cell_type": "code",
   "execution_count": 12,
   "metadata": {},
   "outputs": [
    {
     "data": {
      "text/plain": [
       "'gpt-4o'"
      ]
     },
     "execution_count": 12,
     "metadata": {},
     "output_type": "execute_result"
    }
   ],
   "source": [
    "model.model_name"
   ]
  },
  {
   "cell_type": "code",
   "execution_count": 13,
   "metadata": {},
   "outputs": [
    {
     "name": "stdout",
     "output_type": "stream",
     "text": [
      "Dispositivo eletrônico para processamento, armazenamento e comunicação de informações digitais.\n",
      "Veículo motorizado com rodas, usado para transporte terrestre de pessoas.\n",
      "Um mamífero grande, rápido e elegante usado para transporte e esporte.\n",
      "Instrumento de escrita com tinta, utilizado para anotações e desenhos.\n"
     ]
    }
   ],
   "source": [
    "prompt = ChatPromptTemplate.from_template('Descreva em apenas 10 palavras o que seria o objeto seguinte: {objeto}')\n",
    "output_parser = StrOutputParser()\n",
    "\n",
    "chain = prompt | model | output_parser\n",
    "\n",
    "print(chain.invoke({'objeto': 'computador'}))\n",
    "print(chain.invoke({'objeto': 'carro'}))\n",
    "print(chain.invoke({'objeto': 'cavalo'}))\n",
    "print(chain.invoke({'objeto': 'caneta'}))"
   ]
  }
 ],
 "metadata": {
  "kernelspec": {
   "display_name": "venv",
   "language": "python",
   "name": "python3"
  },
  "language_info": {
   "codemirror_mode": {
    "name": "ipython",
    "version": 3
   },
   "file_extension": ".py",
   "mimetype": "text/x-python",
   "name": "python",
   "nbconvert_exporter": "python",
   "pygments_lexer": "ipython3",
   "version": "3.12.4"
  }
 },
 "nbformat": 4,
 "nbformat_minor": 2
}
