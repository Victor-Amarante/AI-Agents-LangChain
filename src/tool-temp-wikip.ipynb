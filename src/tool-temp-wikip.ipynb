{
 "cells": [
  {
   "cell_type": "markdown",
   "metadata": {},
   "source": [
    "Criando uma tool de busca de temperatura"
   ]
  },
  {
   "cell_type": "code",
   "execution_count": 18,
   "metadata": {},
   "outputs": [
    {
     "data": {
      "text/plain": [
       "10.1"
      ]
     },
     "execution_count": 18,
     "metadata": {},
     "output_type": "execute_result"
    }
   ],
   "source": [
    "import requests\n",
    "import datetime\n",
    "\n",
    "from langchain.tools import StructuredTool\n",
    "from langchain.pydantic_v1 import BaseModel, Field\n",
    "\n",
    "\n",
    "class GetTemperaturaAtualArgs(BaseModel):\n",
    "    latitude: float = Field(..., description=\"Latitude do local a ser consultado\")\n",
    "    longitude: float = Field(..., description=\"Longitude do local a ser consultado\")\n",
    "\n",
    "def get_temperatura_atual(latitude: float, longitude: float):\n",
    "    URL = \"https://api.open-meteo.com/v1/forecast\"\n",
    "\n",
    "    params = {\n",
    "        \"latitude\": latitude,\n",
    "        \"longitude\": longitude,\n",
    "        \"hourly\": \"temperature_2m\",\n",
    "        \"forecast_days\": 1\n",
    "    }\n",
    "\n",
    "    response = requests.get(URL, params=params)\n",
    "\n",
    "    if response.status_code == 200:\n",
    "        resultado = response.json()\n",
    "        \n",
    "        hora_agora = datetime.datetime.now(datetime.UTC).replace(tzinfo=None)\n",
    "        lista_horas = [datetime.datetime.fromisoformat(temp_str) for temp_str in resultado[\"hourly\"][\"time\"]]\n",
    "        index_mais_prox = min(range(len(lista_horas)), key=lambda x: abs(lista_horas[x] - hora_agora))\n",
    "        \n",
    "        temp_atual = resultado[\"hourly\"][\"temperature_2m\"][index_mais_prox]\n",
    "        \n",
    "        return temp_atual\n",
    "    else:\n",
    "        raise Exception(f\"Erro na requisição: {response.status_code} - {response.text}\")\n",
    "    \n",
    "    \n",
    "tool_get_temperatura_atual = StructuredTool.from_function(\n",
    "    func=get_temperatura_atual,\n",
    "    name=\"Tool Get Temperatura Atual\",\n",
    "    description=\"Retorna a temperatura atual em um local\",\n",
    "    args_schema=GetTemperaturaAtualArgs,\n",
    "    return_direct=True,\n",
    ")\n",
    "\n",
    "tool_get_temperatura_atual.run({\"latitude\": 52.52, \"longitude\": 13.41})"
   ]
  },
  {
   "cell_type": "markdown",
   "metadata": {},
   "source": [
    "Criando um tool de busca no wikipedia"
   ]
  },
  {
   "cell_type": "code",
   "execution_count": 30,
   "metadata": {},
   "outputs": [
    {
     "data": {
      "text/plain": [
       "'Titulo da pagina: Futebol\\nResumo: O futebol, também referido como futebol de campo, futebol de onze e, originalmente, futebol associado (em inglês: association football, football, soccer), é um esporte de equipe jogado entre dois times de 11 jogadores cada um e um árbitro que se ocupa da correta aplicação das normas. É considerado o desporto mais popular do mundo, pois cerca de 270 milhões de pessoas participam das suas várias competições. É jogado num campo retangular gramado, com uma baliza em cada lado do campo. O objetivo do jogo é deslocar uma bola através do campo para colocá-la dentro da baliza adversária, ação que se denomina golo (português europeu) ou gol (português brasileiro). A equipe que marca mais gols ao término da partida é a vencedora.\\nO jogo moderno foi criado na Inglaterra com a formação de The Football Association, cujas regras de 1863 são a base do desporto na atualidade. O órgão regente do futebol é a Federação Internacional de Futebol (em francês: Fédération Internationale de Football Association), mais conhecida pelo acrônimo FIFA. A principal competição internacional de futebol é a Copa do Mundo FIFA, realizada a cada quatro anos. Este evento é o mais famoso e com maior quantidade de espectadores do mundo, o dobro da audiência dos Jogos Olímpicos.\\n\\nTitulo da pagina: Campeonato Brasileiro de Futebol\\nResumo: O Campeonato Brasileiro de Futebol, também conhecido como Campeonato Brasileiro, Brasileirão e Série A, é a liga brasileira de futebol profissional entre clubes do Brasil, sendo a principal competição futebolística no país. É por meio dela que são indicados os representantes brasileiros para a Copa Libertadores da América (juntamente com o campeão da Copa do Brasil). O campeão do torneio também conquista uma vaga na Supercopa do Brasil no ano seguinte.\\nAo contrário do que ocorrera em outros países da América do Sul, houve muitos desafios para que o futebol no Brasil tivesse um sistema de disputa em nível federal. Além da grande dimensão geográfica do país, contribuíram para essa situação a origem e a consolidação do futebol no país a partir dos grandes centros urbanos, algo que fortaleceu uma organização por federações estaduais; as intensas rivalidades pelo poder entre dirigentes paulistas e cariocas, os maiores centros futebolísticos do Brasil; e a própria postura da Confederação Brasileira de Desportos (CBD, precursora da atual Confederação Brasileira de Futebol), a então entidade responsável pelo futebol nacional e que tinha mais interesse em arrecadar com o modelo de um Campeonato Brasileiro entre Seleções Estaduais, originalmente a nomenclatura \"Campeonato Brasileiro de Futebol\" pertencia a essa disputa, jogada de forma descontínua entre 1922 e 1962, além de uma edição em 1987. Em 1937, surge a primeira disputa nacional de clubes profissionais, o Torneio dos Campeões da FBF (liga de dissidentes e defensora da profissionalização), reconhecido pela CBF, em 2023, como Campeonato Brasileiro. Antes, houve o Campeonato Brasileiro de Clubes Campeões, triangular da CBD jogado em 1920, em pleno amadorismo. Apenas em 1959, como estabelecido em 1955, a CBD cria um torneio nacional regular de clubes profissionais, a Taça Brasil. Em 1967, o Torneio Rio-São Paulo foi expandido para incluir equipes de outros estados, ficando conhecido como Torneio Roberto Gomes Pedrosa, e passando a ser considerado uma competição nacional. Em 1971, a CBD iniciou um novo torneio nacional, o Campeonato Nacional de Clubes, torneio este, que foi considerado, entre 1976 e 2010, pela entidade máxima do futebol brasileiro como sendo a primeira edição do Campeonato Brasileiro. Em seus boletins oficiais entre 1971 e 1975, a CBD colocava as edições do Torneio Roberto Gomes Pedrosa/Taça de Prata em igualdade de condições com as edições posteriores do Campeonato Brasileiro, apenas mantendo os nomes próprios, excluindo esta informação a partir do boletim de 1976. O primeiro Campeonato Brasileiro oficialmente com esse nome foi realizado em 1989. Em dezembro de 2010, a CBF unificou a Taça Brasil (1959 a 1968) e o Torneio Roberto Gomes Pedrosa/Taça de Prata (1967 a 1970) aos títulos a partir de 1971.\\nUma das características históricas do Campeonato Brasileiro foi a falta de uma padronização no sistema de disputa, que mudava a cada ano, assim como as regras e o número de participantes. Por conta disso, em diversas temporadas não havia sistema de acesso e descenso para a Segunda Divisão, ao mesmo tempo em que houve edições as quais o regulamento previa, no mesmo ano, o acesso das equipes com melhor campanha para a Primeira Divisão. Somente na década de 1990, a CBF instituiu um sistema mais regular entre diferentes divisões. Dentre os vários formatos já adotados incluem-se sistema eliminatório (1959–1968) e sistemas mistos de grupos (1967–2002). A fórmula de disputa do campeonato foi padronizada somente em 2003, quando foi adotado o sistema de pontos corridos com todas as equipes se enfrentando em turno e returno. O primeiro campeão brasileiro foi o Atlético Mineiro em 1937, enquanto o Palmeiras é o clube que detém o maior número de títulos brasileiros, com doze conquistas; Desde sua edição pioneira em 1937, dezessete clubes já foram campeões brasileiros, treze por mais de uma vez, de sete estados e nove cidades diferentes, sendo que apenas o estado de São Paulo teve campeão por mais de uma cidade, três no total (Campinas, Santos e São Paulo), e apenas a cidade do Rio de Janeiro teve mais de três clubes campeões, quatro deles (Botafogo, Flamengo, Fluminense e Vasco da Gama), características estas que demonstram o nível de competitividade do campeonato.\\nO Campeonato Brasileiro é uma das ligas mais fortes do mundo, sendo a liga mais valiosa do continente americano e a sétima do mundo, contando entre seus integrantes habituais com a participação do maior número de clubes detentores de títulos de \"campeões mundiais\", com onze campeonatos ganhos por sete clubes, o segundo em termos de quantidade de títulos da Copa Libertadores da América, com vinte e três títulos conquistados por onze clubes e ainda outros três finalistas, atrás em títulos apenas da Primera División Argentina, com 25 títulos conquistados por oito clubes e mais dois clubes finalistas. Nos últimos anos, o Brasileirão vem sendo também classificado como um dos campeonatos nacionais mais valiosos do mundo. Por conta disso, a Série A do Campeonato Brasileiro é reconhecida como uma das ligas nacionais mais equilibradas do mundo. De acordo com o ranking da Federação Internacional de História e Estatísticas do Futebol (IFFHS, na sua sigla em inglês), é um dos cinco campeonatos mais fortes do mundo — no relatório de 2020, esteve somente atrás da Premier League inglesa. É ainda o torneio de futebol mais visto no continente americano e um dos mais expostos internacionalmente, transmitido para mais de 150 países.\\n\\nTitulo da pagina: Lista de número de títulos nacionais e internacionais conquistados por times brasileiros de futebol\\nResumo: Esta é uma lista de clubes campeões de competições de caráter nacional ou internacional (continental, intercontinental e mundial) do futebol brasileiro, contemplando apenas os títulos reconhecidos pela Confederação Brasileira de Futebol (CBF), e entidades antecessoras (ex.: CBD), pela Confederação Sul-Americana de Futebol (CONMEBOL), e pela Federação Internacional de Futebol (FIFA), considerando o futebol de campo masculino adulto.\\nA presente lista, que atualmente conta com 26 clubes, é uma agregação de dados da Lista de títulos internacionais de clubes brasileiros de futebol e da Lista de campeões do futebol brasileiro, conforme critérios expostos nas mesmas. Não foram consideradas competições de alcance apenas estadual ou regional. Por neutralidade, as distintas competições são agregadas com igual peso, sendo o ordenamento feito pelo total geral de títulos e, em caso de empate neste critério entre dois ou mais clubes, os mesmos aparecem em ordem cronológica, primeiramente os que primeiro lograram o referido número total de títulos.\\nNo número referente à \"variedade de competições (vc)\" considera-se quantas competições diferentes foram conquistadas ao menos uma vez, independentemente da quantidade de edições vencidas em cada uma.'"
      ]
     },
     "execution_count": 30,
     "metadata": {},
     "output_type": "execute_result"
    }
   ],
   "source": [
    "from typing import List\n",
    "import wikipedia\n",
    "wikipedia.set_lang(\"pt\")\n",
    "\n",
    "query = \"Isaac Asimov\"\n",
    "\n",
    "class RetornaResumosWikipediaArgs(BaseModel):\n",
    "    query: str = Field(..., description=\"Termo a ser buscado\")\n",
    "\n",
    "def busca_wikipedia(query:str) -> List:\n",
    "    # titulos das paginas sobre a query\n",
    "    titulos_paginas = wikipedia.search(query)\n",
    "\n",
    "    # resumos das paginas\n",
    "    resumos = []\n",
    "    for titulo in titulos_paginas[:3]:\n",
    "        try:\n",
    "            wiki_page = wikipedia.page(titulo, auto_suggest=True)\n",
    "            resumos.append(f\"Titulo da pagina: {titulo}\\nResumo: {wiki_page.summary}\")\n",
    "        except:\n",
    "            pass\n",
    "    if not resumos:\n",
    "        return 'Busca nao teve retorno'\n",
    "    else:\n",
    "        return '\\n\\n'.join(resumos)\n",
    "\n",
    "tool_get_resumos_wikipedia = StructuredTool.from_function(\n",
    "    func=busca_wikipedia,\n",
    "    name=\"Tool Retornar resumos da Wikipedia\",\n",
    "    description=\"Retorna resumos da Wikipedia\",\n",
    "    args_schema=RetornaResumosWikipediaArgs,\n",
    "    return_direct=True\n",
    ")\n",
    "\n",
    "tool_get_resumos_wikipedia.invoke({\"query\": \"futebol\"})\n"
   ]
  },
  {
   "cell_type": "markdown",
   "metadata": {},
   "source": [
    "Testando a tool"
   ]
  },
  {
   "cell_type": "code",
   "execution_count": 51,
   "metadata": {},
   "outputs": [],
   "source": [
    "from langchain.prompts import ChatPromptTemplate\n",
    "from langchain_openai import ChatOpenAI\n",
    "from langchain_core.utils.function_calling import convert_to_openai_function\n",
    "\n",
    "prompt = ChatPromptTemplate.from_messages([\n",
    "    ('system', 'Você é um assistente amigável chamado Issac'),\n",
    "    ('user', '{input}')\n",
    "])\n",
    "\n",
    "chat = ChatOpenAI()\n",
    "\n",
    "tools = [\n",
    "    convert_to_openai_function(busca_wikipedia),\n",
    "    convert_to_openai_function(get_temperatura_atual)\n",
    "]\n",
    "chain = prompt | chat.bind(functions=tools)"
   ]
  },
  {
   "cell_type": "code",
   "execution_count": 52,
   "metadata": {},
   "outputs": [
    {
     "data": {
      "text/plain": [
       "AIMessage(content='Olá! Como posso ajudar você hoje?', response_metadata={'token_usage': {'completion_tokens': 12, 'prompt_tokens': 74, 'total_tokens': 86, 'prompt_tokens_details': {'cached_tokens': 0}, 'completion_tokens_details': {'reasoning_tokens': 0}}, 'model_name': 'gpt-3.5-turbo', 'system_fingerprint': None, 'finish_reason': 'stop', 'logprobs': None}, id='run-4a277985-5d16-48ff-8f9f-bd9134042212-0')"
      ]
     },
     "execution_count": 52,
     "metadata": {},
     "output_type": "execute_result"
    }
   ],
   "source": [
    "chain.invoke({'input': 'Olá'})"
   ]
  },
  {
   "cell_type": "code",
   "execution_count": 53,
   "metadata": {},
   "outputs": [
    {
     "data": {
      "text/plain": [
       "AIMessage(content='', additional_kwargs={'function_call': {'arguments': '{\"latitude\":-30.0331,\"longitude\":-51.23}', 'name': 'get_temperatura_atual'}}, response_metadata={'token_usage': {'completion_tokens': 26, 'prompt_tokens': 81, 'total_tokens': 107, 'prompt_tokens_details': {'cached_tokens': 0}, 'completion_tokens_details': {'reasoning_tokens': 0}}, 'model_name': 'gpt-3.5-turbo', 'system_fingerprint': None, 'finish_reason': 'function_call', 'logprobs': None}, id='run-61256c5d-a7a9-4231-b8a7-7212becfb9c1-0')"
      ]
     },
     "execution_count": 53,
     "metadata": {},
     "output_type": "execute_result"
    }
   ],
   "source": [
    "chain.invoke({'input': 'Qual a temperatura de Porto Alegre?'})"
   ]
  },
  {
   "cell_type": "code",
   "execution_count": 54,
   "metadata": {},
   "outputs": [
    {
     "data": {
      "text/plain": [
       "AIMessage(content='', additional_kwargs={'function_call': {'arguments': '{\"query\":\"Isaac Asimov\"}', 'name': 'busca_wikipedia'}}, response_metadata={'token_usage': {'completion_tokens': 20, 'prompt_tokens': 80, 'total_tokens': 100, 'prompt_tokens_details': {'cached_tokens': 0}, 'completion_tokens_details': {'reasoning_tokens': 0}}, 'model_name': 'gpt-3.5-turbo', 'system_fingerprint': None, 'finish_reason': 'function_call', 'logprobs': None}, id='run-748c436d-bbbe-49f5-ab5e-c1d1ab9d64c3-0')"
      ]
     },
     "execution_count": 54,
     "metadata": {},
     "output_type": "execute_result"
    }
   ],
   "source": [
    "chain.invoke({'input': 'Quem foi Isaac Asimov?'})"
   ]
  },
  {
   "cell_type": "code",
   "execution_count": 55,
   "metadata": {},
   "outputs": [
    {
     "data": {
      "text/plain": [
       "AIMessage(content='', additional_kwargs={'function_call': {'arguments': '{\"query\":\"Steve Jobs\"}', 'name': 'busca_wikipedia'}}, response_metadata={'token_usage': {'completion_tokens': 17, 'prompt_tokens': 77, 'total_tokens': 94, 'prompt_tokens_details': {'cached_tokens': 0}, 'completion_tokens_details': {'reasoning_tokens': 0}}, 'model_name': 'gpt-3.5-turbo', 'system_fingerprint': None, 'finish_reason': 'function_call', 'logprobs': None}, id='run-3ed0be0c-1b35-4e30-9155-4718455a953d-0')"
      ]
     },
     "execution_count": 55,
     "metadata": {},
     "output_type": "execute_result"
    }
   ],
   "source": [
    "chain.invoke({'input': 'Quem foi Steve Jobs'})"
   ]
  }
 ],
 "metadata": {
  "kernelspec": {
   "display_name": "venv",
   "language": "python",
   "name": "python3"
  },
  "language_info": {
   "codemirror_mode": {
    "name": "ipython",
    "version": 3
   },
   "file_extension": ".py",
   "mimetype": "text/x-python",
   "name": "python",
   "nbconvert_exporter": "python",
   "pygments_lexer": "ipython3",
   "version": "3.12.4"
  }
 },
 "nbformat": 4,
 "nbformat_minor": 2
}
