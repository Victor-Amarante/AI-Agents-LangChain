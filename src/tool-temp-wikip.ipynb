{
 "cells": [
  {
   "cell_type": "markdown",
   "metadata": {},
   "source": [
    "Criando uma tool de busca de temperatura"
   ]
  },
  {
   "cell_type": "code",
   "execution_count": 18,
   "metadata": {},
   "outputs": [
    {
     "data": {
      "text/plain": [
       "10.1"
      ]
     },
     "execution_count": 18,
     "metadata": {},
     "output_type": "execute_result"
    }
   ],
   "source": [
    "import requests\n",
    "import datetime\n",
    "\n",
    "from langchain.tools import StructuredTool\n",
    "from langchain.pydantic_v1 import BaseModel, Field\n",
    "\n",
    "\n",
    "class GetTemperaturaAtualArgs(BaseModel):\n",
    "    latitude: float = Field(..., description=\"Latitude do local a ser consultado\")\n",
    "    longitude: float = Field(..., description=\"Longitude do local a ser consultado\")\n",
    "\n",
    "def get_temperatura_atual(latitude: float, longitude: float):\n",
    "    URL = \"https://api.open-meteo.com/v1/forecast\"\n",
    "\n",
    "    params = {\n",
    "        \"latitude\": latitude,\n",
    "        \"longitude\": longitude,\n",
    "        \"hourly\": \"temperature_2m\",\n",
    "        \"forecast_days\": 1\n",
    "    }\n",
    "\n",
    "    response = requests.get(URL, params=params)\n",
    "\n",
    "    if response.status_code == 200:\n",
    "        resultado = response.json()\n",
    "        \n",
    "        hora_agora = datetime.datetime.now(datetime.UTC).replace(tzinfo=None)\n",
    "        lista_horas = [datetime.datetime.fromisoformat(temp_str) for temp_str in resultado[\"hourly\"][\"time\"]]\n",
    "        index_mais_prox = min(range(len(lista_horas)), key=lambda x: abs(lista_horas[x] - hora_agora))\n",
    "        \n",
    "        temp_atual = resultado[\"hourly\"][\"temperature_2m\"][index_mais_prox]\n",
    "        \n",
    "        return temp_atual\n",
    "    else:\n",
    "        raise Exception(f\"Erro na requisição: {response.status_code} - {response.text}\")\n",
    "    \n",
    "    \n",
    "tool_get_temperatura_atual = StructuredTool.from_function(\n",
    "    func=get_temperatura_atual,\n",
    "    name=\"Tool Get Temperatura Atual\",\n",
    "    description=\"Retorna a temperatura atual em um local\",\n",
    "    args_schema=GetTemperaturaAtualArgs,\n",
    "    return_direct=True,\n",
    ")\n",
    "\n",
    "tool_get_temperatura_atual.run({\"latitude\": 52.52, \"longitude\": 13.41})"
   ]
  },
  {
   "cell_type": "code",
   "execution_count": 17,
   "metadata": {},
   "outputs": [
    {
     "data": {
      "text/plain": [
       "StructuredTool(name='Tool Get Temperatura Atual', description='Tool Get Temperatura Atual(latitude: float, longitude: float) - Retorna a temperatura atual em um local', args_schema=<class '__main__.GetTemperaturaAtualArgs'>, return_direct=True, func=<function get_temperatura_atual at 0x12a751440>)"
      ]
     },
     "execution_count": 17,
     "metadata": {},
     "output_type": "execute_result"
    }
   ],
   "source": [
    "tool_get_temperatura_atual"
   ]
  }
 ],
 "metadata": {
  "kernelspec": {
   "display_name": "venv",
   "language": "python",
   "name": "python3"
  },
  "language_info": {
   "codemirror_mode": {
    "name": "ipython",
    "version": 3
   },
   "file_extension": ".py",
   "mimetype": "text/x-python",
   "name": "python",
   "nbconvert_exporter": "python",
   "pygments_lexer": "ipython3",
   "version": "3.12.4"
  }
 },
 "nbformat": 4,
 "nbformat_minor": 2
}
