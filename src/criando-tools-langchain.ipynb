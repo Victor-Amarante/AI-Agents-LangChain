{
 "cells": [
  {
   "cell_type": "code",
   "execution_count": 2,
   "metadata": {},
   "outputs": [
    {
     "data": {
      "text/plain": [
       "StructuredTool(name='retorna_temperatura_atual', description='retorna_temperatura_atual(localidade: str) - Faz busca online de temperatura de uma localidade', args_schema=<class 'pydantic.v1.main.retorna_temperatura_atualSchema'>, func=<function retorna_temperatura_atual at 0x119dce980>)"
      ]
     },
     "execution_count": 2,
     "metadata": {},
     "output_type": "execute_result"
    }
   ],
   "source": [
    "# criando tools com o decorator @tool\n",
    "\n",
    "from langchain.agents import tool\n",
    "\n",
    "@tool\n",
    "def retorna_temperatura_atual(localidade: str):\n",
    "    '''Faz busca online de temperatura de uma localidade'''\n",
    "    return '25 graus Celsius'\n",
    "\n",
    "retorna_temperatura_atual"
   ]
  },
  {
   "cell_type": "code",
   "execution_count": 3,
   "metadata": {},
   "outputs": [
    {
     "data": {
      "text/plain": [
       "'retorna_temperatura_atual'"
      ]
     },
     "execution_count": 3,
     "metadata": {},
     "output_type": "execute_result"
    }
   ],
   "source": [
    "retorna_temperatura_atual.name"
   ]
  },
  {
   "cell_type": "code",
   "execution_count": 4,
   "metadata": {},
   "outputs": [
    {
     "data": {
      "text/plain": [
       "'retorna_temperatura_atual(localidade: str) - Faz busca online de temperatura de uma localidade'"
      ]
     },
     "execution_count": 4,
     "metadata": {},
     "output_type": "execute_result"
    }
   ],
   "source": [
    "retorna_temperatura_atual.description"
   ]
  },
  {
   "cell_type": "code",
   "execution_count": 5,
   "metadata": {},
   "outputs": [
    {
     "data": {
      "text/plain": [
       "{'localidade': {'title': 'Localidade', 'type': 'string'}}"
      ]
     },
     "execution_count": 5,
     "metadata": {},
     "output_type": "execute_result"
    }
   ],
   "source": [
    "retorna_temperatura_atual.args"
   ]
  },
  {
   "cell_type": "code",
   "execution_count": 8,
   "metadata": {},
   "outputs": [
    {
     "data": {
      "text/plain": [
       "StructuredTool(name='retorna_temperatura_atual', description='retorna_temperatura_atual(localidade: str) - Faz busca online de temperatura de uma localidade', args_schema=<class '__main__.RetornaTemperaturaArgs'>, func=<function retorna_temperatura_atual at 0x119dcf100>)"
      ]
     },
     "execution_count": 8,
     "metadata": {},
     "output_type": "execute_result"
    }
   ],
   "source": [
    "# descrevendo os argumentos\n",
    "from langchain.agents import tool\n",
    "from langchain.pydantic_v1 import BaseModel, Field\n",
    "\n",
    "class RetornaTemperaturaArgs(BaseModel):\n",
    "    localidade: str = Field(..., description=\"Localidade a ser buscada\", example=[\"São Paulo\", \"Porto Alegre\"])\n",
    "\n",
    "@tool(args_schema=RetornaTemperaturaArgs)\n",
    "def retorna_temperatura_atual(localidade: str):\n",
    "    '''Faz busca online de temperatura de uma localidade'''\n",
    "    return '25 graus Celsius' \n",
    "\n",
    "retorna_temperatura_atual"
   ]
  },
  {
   "cell_type": "code",
   "execution_count": 9,
   "metadata": {},
   "outputs": [
    {
     "data": {
      "text/plain": [
       "{'localidade': {'title': 'Localidade',\n",
       "  'description': 'Localidade a ser buscada',\n",
       "  'example': ['São Paulo', 'Porto Alegre'],\n",
       "  'type': 'string'}}"
      ]
     },
     "execution_count": 9,
     "metadata": {},
     "output_type": "execute_result"
    }
   ],
   "source": [
    "retorna_temperatura_atual.args"
   ]
  },
  {
   "cell_type": "code",
   "execution_count": 10,
   "metadata": {},
   "outputs": [
    {
     "data": {
      "text/plain": [
       "'25 graus Celsius'"
      ]
     },
     "execution_count": 10,
     "metadata": {},
     "output_type": "execute_result"
    }
   ],
   "source": [
    "# chamando a tool\n",
    "retorna_temperatura_atual.invoke({\"localidade\": \"Porto Alegre\"})"
   ]
  },
  {
   "cell_type": "markdown",
   "metadata": {},
   "source": [
    "Criando tool com StructuredTool"
   ]
  },
  {
   "cell_type": "code",
   "execution_count": 11,
   "metadata": {},
   "outputs": [
    {
     "data": {
      "text/plain": [
       "StructuredTool(name='Tool temperatura', description='Tool temperatura(localidade: str) - Faz busca online de temperatura de uma localidade', args_schema=<class '__main__.RetornaTemperaturaArgs'>, return_direct=True, func=<function retorna_temperatura_atual at 0x138cc7c40>)"
      ]
     },
     "execution_count": 11,
     "metadata": {},
     "output_type": "execute_result"
    }
   ],
   "source": [
    "from langchain.tools import StructuredTool\n",
    "from langchain.pydantic_v1 import BaseModel, Field\n",
    "\n",
    "class RetornaTemperaturaArgs(BaseModel):\n",
    "    localidade: str = Field(..., description=\"Localidade a ser buscada\", example=[\"São Paulo\", \"Porto Alegre\"])\n",
    "\n",
    "def retorna_temperatura_atual(localidade: str):\n",
    "    return '25 graus Celsius' \n",
    "\n",
    "tool_temp = StructuredTool.from_function(\n",
    "    func=retorna_temperatura_atual,\n",
    "    name=\"Tool temperatura\",\n",
    "    description=\"Faz busca online de temperatura de uma localidade\",\n",
    "    args_schema=RetornaTemperaturaArgs,\n",
    "    return_direct=True,\n",
    ")\n",
    "\n",
    "tool_temp"
   ]
  },
  {
   "cell_type": "code",
   "execution_count": 12,
   "metadata": {},
   "outputs": [
    {
     "data": {
      "text/plain": [
       "'25 graus Celsius'"
      ]
     },
     "execution_count": 12,
     "metadata": {},
     "output_type": "execute_result"
    }
   ],
   "source": [
    "tool_temp.invoke({\"localidade\": \"Porto Alegre\"})"
   ]
  },
  {
   "cell_type": "code",
   "execution_count": 13,
   "metadata": {},
   "outputs": [
    {
     "data": {
      "text/plain": [
       "StructuredTool(name='Tool Localidade', description='Tool Localidade(localidade: str) - Faz busca online da cidade escolhida pelo usuario', args_schema=<class '__main__.RetornaLocalidadeArgs'>, return_direct=True, func=<function retorna_nome_localidade at 0x138d1ccc0>)"
      ]
     },
     "execution_count": 13,
     "metadata": {},
     "output_type": "execute_result"
    }
   ],
   "source": [
    "# Criando soziho\n",
    "\n",
    "from langchain.tools import StructuredTool\n",
    "from langchain.pydantic_v1 import BaseModel, Field\n",
    "\n",
    "class RetornaLocalidadeArgs(BaseModel):\n",
    "    localidade: str = Field(..., description=\"Localidade a ser buscada\", example=[\"Recife\", \"Rio de Janeiro\"])\n",
    "\n",
    "def retorna_nome_localidade(localidade: str):\n",
    "    return f'A cidade escolhida foi {localidade}'\n",
    "\n",
    "tool_localidade = StructuredTool.from_function(\n",
    "    func=retorna_nome_localidade,\n",
    "    name=\"Tool Localidade\",\n",
    "    description=\"Faz busca online da cidade escolhida pelo usuario\",\n",
    "    return_direct=True,\n",
    "    args_schema=RetornaLocalidadeArgs\n",
    ")\n",
    "\n",
    "tool_localidade"
   ]
  },
  {
   "cell_type": "code",
   "execution_count": null,
   "metadata": {},
   "outputs": [],
   "source": []
  }
 ],
 "metadata": {
  "kernelspec": {
   "display_name": "venv",
   "language": "python",
   "name": "python3"
  },
  "language_info": {
   "codemirror_mode": {
    "name": "ipython",
    "version": 3
   },
   "file_extension": ".py",
   "mimetype": "text/x-python",
   "name": "python",
   "nbconvert_exporter": "python",
   "pygments_lexer": "ipython3",
   "version": "3.12.4"
  }
 },
 "nbformat": 4,
 "nbformat_minor": 2
}
